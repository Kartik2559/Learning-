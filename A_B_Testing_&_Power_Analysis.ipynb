{
  "nbformat": 4,
  "nbformat_minor": 0,
  "metadata": {
    "colab": {
      "provenance": [],
      "authorship_tag": "ABX9TyOgfiJOp5vktVPzWDX8ZicW",
      "include_colab_link": true
    },
    "kernelspec": {
      "name": "python3",
      "display_name": "Python 3"
    },
    "language_info": {
      "name": "python"
    }
  },
  "cells": [
    {
      "cell_type": "markdown",
      "metadata": {
        "id": "view-in-github",
        "colab_type": "text"
      },
      "source": [
        "<a href=\"https://colab.research.google.com/github/Kartik2559/Learning-/blob/main/A_B_Testing_%26_Power_Analysis.ipynb\" target=\"_parent\"><img src=\"https://colab.research.google.com/assets/colab-badge.svg\" alt=\"Open In Colab\"/></a>"
      ]
    },
    {
      "cell_type": "markdown",
      "source": [
        "**Scenario** :\n",
        "\n",
        "Imagine a company named \"Shopifyluxe\" that sells luxury items online. They recently redesigned the checkout button on their website to see if it would increase sales conversions. The original design is the \"control\" group (A) and the new design is the \"treatment\" group (B)."
      ],
      "metadata": {
        "id": "zyuI8cV_rSZA"
      }
    },
    {
      "cell_type": "markdown",
      "source": [
        "Conversion rate = converted customer/ total customer\n",
        "\n",
        "total customers = all the customers visiting website\n",
        "\n",
        "coverted customer = those who made purchase\n"
      ],
      "metadata": {
        "id": "Mp3Ldz_erUl4"
      }
    },
    {
      "cell_type": "markdown",
      "source": [
        "**Typical steps we have for A/B testing**\n",
        "\n",
        "1) Hypothesis formulation\n",
        "\n",
        "2) Diversion and exposure condition\n",
        "\n",
        "3) Sample size calculation --> how many samples we need in our A/B test\n",
        "\n",
        "4) A/B test\n",
        "\n",
        "5) Analyze data\n",
        "\n",
        "6) Recommendation"
      ],
      "metadata": {
        "id": "kFBRvGHhrbJ-"
      }
    },
    {
      "cell_type": "markdown",
      "source": [
        "**1. Hypothesis formulation**\n",
        "\n",
        "**Null Hypothesis:** The change in the button design has no effect on the conversion rate.\n",
        "\n",
        "**Alternate Hypothesis:** The change in the button effect the conversion rate."
      ],
      "metadata": {
        "id": "-1pH8LH5reYu"
      }
    },
    {
      "cell_type": "markdown",
      "source": [
        "**2. Diversion Criterion**\n",
        "\n",
        "For simplicity, we'll divert users randomly to either the control or treatment group using cookie-based diversion. We'll expose 50% of our visitors to the old button design (Group A) and 50% to the new design (Group B)."
      ],
      "metadata": {
        "id": "aHw1oBgSrpum"
      }
    },
    {
      "cell_type": "markdown",
      "source": [
        "**3. Power analysis**\n",
        "\n",
        "It helps us to calculate the number of samples required in each group for running effective experiment\n",
        "\n",
        "a) alpha (type I error) =0.05/5%\n",
        "\n",
        "b) power (1- type II error) = 80%\n",
        "\n",
        "c) standard deviation\n",
        "\n",
        "d) minimum detectatble effect\n",
        "\n",
        "\n",
        "Minimum detectable effect  is the minimum change you expect in your metric to have considerable business impact\n",
        "\n"
      ],
      "metadata": {
        "id": "6g1rFsphrs9n"
      }
    },
    {
      "cell_type": "markdown",
      "source": [
        "Option-1: Work on cart\n",
        "\n",
        "Option-2: Work on voice feature\n",
        "\n",
        "Option-3: payment flow\n",
        "\n",
        "\n",
        "Both are going to hekp in placing order.\n",
        "\n",
        "\n",
        "Cart improves we can 15% sales improvement\n",
        "\n",
        "VOice search includes we are going to get 10% improvement\n",
        "\n",
        "Payment -12%\n",
        "\n",
        "\n",
        "feature > 10 % improvement\n",
        "\n",
        "mde = 11%"
      ],
      "metadata": {
        "id": "2IC61JQ5rwW4"
      }
    },
    {
      "cell_type": "code",
      "execution_count": 4,
      "metadata": {
        "id": "63uaX7kQA8IW"
      },
      "outputs": [],
      "source": [
        "# calculate power curves for varying sample and effect size\n",
        "\n",
        "import numpy as np\n",
        "import matplotlib.pyplot as plt\n",
        "\n",
        "from statsmodels.stats.power import NormalIndPower\n",
        "from statsmodels.stats.proportion import proportion_effectsize\n"
      ]
    },
    {
      "cell_type": "code",
      "source": [
        "base_conversion_rate = 0.1 # current sales conversion rate for company\n",
        "power = 0.8\n",
        "alpha = 0.05\n",
        "minimum_detectable_effect = 0.15 #MDE\n",
        "\n",
        "# 10%. Increase of 5% in conversion = 0.1*0.15 =0.015 = 1.5%\n",
        "\n",
        "# new conversion rate =0.1+0.015= 0.115 = 11.5%"
      ],
      "metadata": {
        "id": "gRjSlZVAruvY"
      },
      "execution_count": 27,
      "outputs": []
    },
    {
      "cell_type": "code",
      "source": [
        "# 2. Power Analysis\n",
        "\n",
        "sample_size = NormalIndPower().solve_power(effect_size = minimum_detectable_effect, alpha = alpha, power = power, alternative = 'larger')\n"
      ],
      "metadata": {
        "id": "RJ3aRfFe2YH9"
      },
      "execution_count": 28,
      "outputs": []
    },
    {
      "cell_type": "code",
      "source": [
        "sample_size"
      ],
      "metadata": {
        "colab": {
          "base_uri": "https://localhost:8080/"
        },
        "id": "g5FFwohz3H6k",
        "outputId": "b3ab05e0-3e2d-4719-9e73-18c27e21a3ef"
      },
      "execution_count": 29,
      "outputs": [
        {
          "output_type": "execute_result",
          "data": {
            "text/plain": [
              "549.5606428536755"
            ]
          },
          "metadata": {},
          "execution_count": 29
        }
      ]
    },
    {
      "cell_type": "markdown",
      "source": [
        "Number of samples are:\n",
        "\n",
        "1. Inversely proportional to effect size --> bigger the effect smaller the sample you need\n",
        "\n",
        "2. Inversely proprtional to sifnificance level --> smaller the significance more sample you need\n",
        "\n",
        "3. directly proportional to power --> higher the power the more samples you need\n"
      ],
      "metadata": {
        "id": "td3bpXf-3hCX"
      }
    },
    {
      "cell_type": "code",
      "source": [
        "# Parameters for power analysis\n",
        "effect_sizes = np.array([0.02, 0.04, 0.06,0.08, 0.1, 0.12])\n",
        "sample_sizes = np.array(range(5, 8001, 500))  # Ranges from 5 to 10000 for a broader view\n",
        "\n",
        "# Calculate power curves for the varying samples and effect sizes\n",
        "analysis = NormalIndPower()\n",
        "analysis.plot_power(dep_var='nobs', nobs=sample_sizes, effect_size=effect_sizes)\n",
        "plt.title('Power Curves for Different Effect Sizes and Sample Sizes')\n",
        "plt.show()"
      ],
      "metadata": {
        "colab": {
          "base_uri": "https://localhost:8080/",
          "height": 472
        },
        "id": "iCokEejq3VK1",
        "outputId": "9a2f2e8d-81d1-4e0a-ff68-001a6018867a"
      },
      "execution_count": 32,
      "outputs": [
        {
          "output_type": "display_data",
          "data": {
            "text/plain": [
              "<Figure size 640x480 with 1 Axes>"
            ],
            "image/png": "[encoded data removed]"
          },
          "metadata": {}
        }
      ]
    },
    {
      "cell_type": "code",
      "source": [
        "import pandas as pd"
      ],
      "metadata": {
        "id": "aw2a2E1J4Ssu"
      },
      "execution_count": 33,
      "outputs": []
    },
    {
      "cell_type": "code",
      "source": [
        "data = pd.read_csv('/content/ab_test_data - ab_test_data.csv')"
      ],
      "metadata": {
        "id": "JFIs78KY49Oi"
      },
      "execution_count": 34,
      "outputs": []
    },
    {
      "cell_type": "code",
      "source": [
        "data.sample(5)"
      ],
      "metadata": {
        "colab": {
          "base_uri": "https://localhost:8080/",
          "height": 204
        },
        "id": "Maq0yMPN5c4Z",
        "outputId": "0bee40c1-2549-4dfe-b61d-9dfad1f35353"
      },
      "execution_count": 35,
      "outputs": [
        {
          "output_type": "execute_result",
          "data": {
            "text/plain": [
              "     group  converted\n",
              "5432     B          0\n",
              "2076     A          0\n",
              "8539     B          0\n",
              "133      A          0\n",
              "5415     B          0"
            ],
            "text/html": [
              "\n",
              "  <div id=\"df-ff6a1aba-1ea1-4284-8269-52eff0605262\" class=\"colab-df-container\">\n",
              "    <div>\n",
              "<style scoped>\n",
              "    .dataframe tbody tr th:only-of-type {\n",
              "        vertical-align: middle;\n",
              "    }\n",
              "\n",
              "    .dataframe tbody tr th {\n",
              "        vertical-align: top;\n",
              "    }\n",
              "\n",
              "    .dataframe thead th {\n",
              "        text-align: right;\n",
              "    }\n",
              "</style>\n",
              "<table border=\"1\" class=\"dataframe\">\n",
              "  <thead>\n",
              "    <tr style=\"text-align: right;\">\n",
              "      <th></th>\n",
              "      <th>group</th>\n",
              "      <th>converted</th>\n",
              "    </tr>\n",
              "  </thead>\n",
              "  <tbody>\n",
              "    <tr>\n",
              "      <th>5432</th>\n",
              "      <td>B</td>\n",
              "      <td>0</td>\n",
              "    </tr>\n",
              "    <tr>\n",
              "      <th>2076</th>\n",
              "      <td>A</td>\n",
              "      <td>0</td>\n",
              "    </tr>\n",
              "    <tr>\n",
              "      <th>8539</th>\n",
              "      <td>B</td>\n",
              "      <td>0</td>\n",
              "    </tr>\n",
              "    <tr>\n",
              "      <th>133</th>\n",
              "      <td>A</td>\n",
              "      <td>0</td>\n",
              "    </tr>\n",
              "    <tr>\n",
              "      <th>5415</th>\n",
              "      <td>B</td>\n",
              "      <td>0</td>\n",
              "    </tr>\n",
              "  </tbody>\n",
              "</table>\n",
              "</div>\n",
              "    <div class=\"colab-df-buttons\">\n",
              "\n",
              "  <div class=\"colab-df-container\">\n",
              "    <button class=\"colab-df-convert\" onclick=\"convertToInteractive('df-ff6a1aba-1ea1-4284-8269-52eff0605262')\"\n",
              "            title=\"Convert this dataframe to an interactive table.\"\n",
              "            style=\"display:none;\">\n",
              "\n",
              "  <svg xmlns=\"http://www.w3.org/2000/svg\" height=\"24px\" viewBox=\"0 -960 960 960\">\n",
              "    <path d=\"M120-120v-720h720v720H120Zm60-500h600v-160H180v160Zm220 220h160v-160H400v160Zm0 220h160v-160H400v160ZM180-400h160v-160H180v160Zm440 0h160v-160H620v160ZM180-180h160v-160H180v160Zm440 0h160v-160H620v160Z\"/>\n",
              "  </svg>\n",
              "    </button>\n",
              "\n",
              "  <style>\n",
              "    .colab-df-container {\n",
              "      display:flex;\n",
              "      gap: 12px;\n",
              "    }\n",
              "\n",
              "    .colab-df-convert {\n",
              "      background-color: #E8F0FE;\n",
              "      border: none;\n",
              "      border-radius: 50%;\n",
              "      cursor: pointer;\n",
              "      display: none;\n",
              "      fill: #1967D2;\n",
              "      height: 32px;\n",
              "      padding: 0 0 0 0;\n",
              "      width: 32px;\n",
              "    }\n",
              "\n",
              "    .colab-df-convert:hover {\n",
              "      background-color: #E2EBFA;\n",
              "      box-shadow: 0px 1px 2px rgba(60, 64, 67, 0.3), 0px 1px 3px 1px rgba(60, 64, 67, 0.15);\n",
              "      fill: #174EA6;\n",
              "    }\n",
              "\n",
              "    .colab-df-buttons div {\n",
              "      margin-bottom: 4px;\n",
              "    }\n",
              "\n",
              "    [theme=dark] .colab-df-convert {\n",
              "      background-color: #3B4455;\n",
              "      fill: #D2E3FC;\n",
              "    }\n",
              "\n",
              "    [theme=dark] .colab-df-convert:hover {\n",
              "      background-color: #434B5C;\n",
              "      box-shadow: 0px 1px 3px 1px rgba(0, 0, 0, 0.15);\n",
              "      filter: drop-shadow(0px 1px 2px rgba(0, 0, 0, 0.3));\n",
              "      fill: #FFFFFF;\n",
              "    }\n",
              "  </style>\n",
              "\n",
              "    <script>\n",
              "      const buttonEl =\n",
              "        document.querySelector('#df-ff6a1aba-1ea1-4284-8269-52eff0605262 button.colab-df-convert');\n",
              "      buttonEl.style.display =\n",
              "        google.colab.kernel.accessAllowed ? 'block' : 'none';\n",
              "\n",
              "      async function convertToInteractive(key) {\n",
              "        const element = document.querySelector('#df-ff6a1aba-1ea1-4284-8269-52eff0605262');\n",
              "        const dataTable =\n",
              "          await google.colab.kernel.invokeFunction('convertToInteractive',\n",
              "                                                    [key], {});\n",
              "        if (!dataTable) return;\n",
              "\n",
              "        const docLinkHtml = 'Like what you see? Visit the ' +\n",
              "          '<a target=\"_blank\" href=https://colab.research.google.com/notebooks/data_table.ipynb>data table notebook</a>'\n",
              "          + ' to learn more about interactive tables.';\n",
              "        element.innerHTML = '';\n",
              "        dataTable['output_type'] = 'display_data';\n",
              "        await google.colab.output.renderOutput(dataTable, element);\n",
              "        const docLink = document.createElement('div');\n",
              "        docLink.innerHTML = docLinkHtml;\n",
              "        element.appendChild(docLink);\n",
              "      }\n",
              "    </script>\n",
              "  </div>\n",
              "\n",
              "\n",
              "<div id=\"df-222fc1e0-d5f6-4ea3-a5b6-d587f66fb743\">\n",
              "  <button class=\"colab-df-quickchart\" onclick=\"quickchart('df-222fc1e0-d5f6-4ea3-a5b6-d587f66fb743')\"\n",
              "            title=\"Suggest charts\"\n",
              "            style=\"display:none;\">\n",
              "\n",
              "<svg xmlns=\"http://www.w3.org/2000/svg\" height=\"24px\"viewBox=\"0 0 24 24\"\n",
              "     width=\"24px\">\n",
              "    <g>\n",
              "        <path d=\"M19 3H5c-1.1 0-2 .9-2 2v14c0 1.1.9 2 2 2h14c1.1 0 2-.9 2-2V5c0-1.1-.9-2-2-2zM9 17H7v-7h2v7zm4 0h-2V7h2v10zm4 0h-2v-4h2v4z\"/>\n",
              "    </g>\n",
              "</svg>\n",
              "  </button>\n",
              "\n",
              "<style>\n",
              "  .colab-df-quickchart {\n",
              "      --bg-color: #E8F0FE;\n",
              "      --fill-color: #1967D2;\n",
              "      --hover-bg-color: #E2EBFA;\n",
              "      --hover-fill-color: #174EA6;\n",
              "      --disabled-fill-color: #AAA;\n",
              "      --disabled-bg-color: #DDD;\n",
              "  }\n",
              "\n",
              "  [theme=dark] .colab-df-quickchart {\n",
              "      --bg-color: #3B4455;\n",
              "      --fill-color: #D2E3FC;\n",
              "      --hover-bg-color: #434B5C;\n",
              "      --hover-fill-color: #FFFFFF;\n",
              "      --disabled-bg-color: #3B4455;\n",
              "      --disabled-fill-color: #666;\n",
              "  }\n",
              "\n",
              "  .colab-df-quickchart {\n",
              "    background-color: var(--bg-color);\n",
              "    border: none;\n",
              "    border-radius: 50%;\n",
              "    cursor: pointer;\n",
              "    display: none;\n",
              "    fill: var(--fill-color);\n",
              "    height: 32px;\n",
              "    padding: 0;\n",
              "    width: 32px;\n",
              "  }\n",
              "\n",
              "  .colab-df-quickchart:hover {\n",
              "    background-color: var(--hover-bg-color);\n",
              "    box-shadow: 0 1px 2px rgba(60, 64, 67, 0.3), 0 1px 3px 1px rgba(60, 64, 67, 0.15);\n",
              "    fill: var(--button-hover-fill-color);\n",
              "  }\n",
              "\n",
              "  .colab-df-quickchart-complete:disabled,\n",
              "  .colab-df-quickchart-complete:disabled:hover {\n",
              "    background-color: var(--disabled-bg-color);\n",
              "    fill: var(--disabled-fill-color);\n",
              "    box-shadow: none;\n",
              "  }\n",
              "\n",
              "  .colab-df-spinner {\n",
              "    border: 2px solid var(--fill-color);\n",
              "    border-color: transparent;\n",
              "    border-bottom-color: var(--fill-color);\n",
              "    animation:\n",
              "      spin 1s steps(1) infinite;\n",
              "  }\n",
              "\n",
              "  @keyframes spin {\n",
              "    0% {\n",
              "      border-color: transparent;\n",
              "      border-bottom-color: var(--fill-color);\n",
              "      border-left-color: var(--fill-color);\n",
              "    }\n",
              "    20% {\n",
              "      border-color: transparent;\n",
              "      border-left-color: var(--fill-color);\n",
              "      border-top-color: var(--fill-color);\n",
              "    }\n",
              "    30% {\n",
              "      border-color: transparent;\n",
              "      border-left-color: var(--fill-color);\n",
              "      border-top-color: var(--fill-color);\n",
              "      border-right-color: var(--fill-color);\n",
              "    }\n",
              "    40% {\n",
              "      border-color: transparent;\n",
              "      border-right-color: var(--fill-color);\n",
              "      border-top-color: var(--fill-color);\n",
              "    }\n",
              "    60% {\n",
              "      border-color: transparent;\n",
              "      border-right-color: var(--fill-color);\n",
              "    }\n",
              "    80% {\n",
              "      border-color: transparent;\n",
              "      border-right-color: var(--fill-color);\n",
              "      border-bottom-color: var(--fill-color);\n",
              "    }\n",
              "    90% {\n",
              "      border-color: transparent;\n",
              "      border-bottom-color: var(--fill-color);\n",
              "    }\n",
              "  }\n",
              "</style>\n",
              "\n",
              "  <script>\n",
              "    async function quickchart(key) {\n",
              "      const quickchartButtonEl =\n",
              "        document.querySelector('#' + key + ' button');\n",
              "      quickchartButtonEl.disabled = true;  // To prevent multiple clicks.\n",
              "      quickchartButtonEl.classList.add('colab-df-spinner');\n",
              "      try {\n",
              "        const charts = await google.colab.kernel.invokeFunction(\n",
              "            'suggestCharts', [key], {});\n",
              "      } catch (error) {\n",
              "        console.error('Error during call to suggestCharts:', error);\n",
              "      }\n",
              "      quickchartButtonEl.classList.remove('colab-df-spinner');\n",
              "      quickchartButtonEl.classList.add('colab-df-quickchart-complete');\n",
              "    }\n",
              "    (() => {\n",
              "      let quickchartButtonEl =\n",
              "        document.querySelector('#df-222fc1e0-d5f6-4ea3-a5b6-d587f66fb743 button');\n",
              "      quickchartButtonEl.style.display =\n",
              "        google.colab.kernel.accessAllowed ? 'block' : 'none';\n",
              "    })();\n",
              "  </script>\n",
              "</div>\n",
              "    </div>\n",
              "  </div>\n"
            ]
          },
          "metadata": {},
          "execution_count": 35
        }
      ]
    },
    {
      "cell_type": "code",
      "source": [
        "# Z test for proportions\n",
        "\n",
        "count = data.groupby('group')['converted'].sum().values\n",
        "\n",
        "nobs = data.groupby('group').size().values\n",
        "\n",
        "print(count)\n",
        "print(nobs)"
      ],
      "metadata": {
        "colab": {
          "base_uri": "https://localhost:8080/"
        },
        "id": "6FljFK1l5gUL",
        "outputId": "b5a4e3c9-e56e-4956-915e-569b0833b7d3"
      },
      "execution_count": 44,
      "outputs": [
        {
          "output_type": "stream",
          "name": "stdout",
          "text": [
            "[479 567]\n",
            "[5000 5000]\n"
          ]
        }
      ]
    },
    {
      "cell_type": "code",
      "source": [
        "from statsmodels.stats.proportion import proportions_ztest\n",
        "\n",
        "z_stats, p_value_z_test = proportions_ztest(count, nobs)\n",
        "\n",
        "print(f'Z Statastics : {z_stats}')\n",
        "print(f'P Value : {p_value_z_test}')"
      ],
      "metadata": {
        "colab": {
          "base_uri": "https://localhost:8080/"
        },
        "id": "YEdw3-2s7J8k",
        "outputId": "9d1f31d3-01c8-4a9c-aee1-924838089bcb"
      },
      "execution_count": 45,
      "outputs": [
        {
          "output_type": "stream",
          "name": "stdout",
          "text": [
            "Z Statastics : -2.8754663182630487\n",
            "P Value : 0.004034311857575921\n"
          ]
        }
      ]
    },
    {
      "cell_type": "code",
      "source": [
        "# from scipy.stats import chi2_contingency\n",
        "\n",
        "# # 2. Create a contingency table\n",
        "# contingency_table = pd.crosstab(ab_test_data['group'], ab_test_data['converted'])\n",
        "\n",
        "# # 3. Conduct chi-square test\n",
        "# chi2_stat, p_value, _, _ = chi2_contingency(contingency_table)\n",
        "\n",
        "# print(f\"Chi-Square Statistic: {chi2_stat}\")\n",
        "# print(f\"P-value: {p_value}\")\n",
        "\n",
        "from scipy.stats import chi2_contingency\n",
        "\n",
        "contingency_table = pd.crosstab(data['group'], data['converted'])\n",
        "\n",
        "chi2_stats, P_value, _, _ = chi2_contingency(contingency_table)\n",
        "\n",
        "print(f\"Chi-Square Statistic: {chi2_stats}\")\n",
        "print(f\"P-value: {P_value}\")"
      ],
      "metadata": {
        "colab": {
          "base_uri": "https://localhost:8080/"
        },
        "id": "OA3GTbU68g2O",
        "outputId": "28886881-4b78-4a45-9b2b-478e7336bf4c"
      },
      "execution_count": 50,
      "outputs": [
        {
          "output_type": "stream",
          "name": "stdout",
          "text": [
            "Chi-Square Statistic: 8.081458194442725\n",
            "P-value: 0.004472044654175628\n"
          ]
        }
      ]
    },
    {
      "cell_type": "markdown",
      "source": [
        "Conclusion:\n",
        "\n",
        "1) We reject null hypothesis as p-value < alpha\n",
        "\n",
        "2) We saw a point estimate increase of 19% with 95% confidence..CI??\n",
        "\n",
        "3) My recommendation is to build the feature as sales value is greater than equal to MDE"
      ],
      "metadata": {
        "id": "wSFb1Tj59dD-"
      }
    },
    {
      "cell_type": "code",
      "source": [],
      "metadata": {
        "id": "4ci3r2iI86Id"
      },
      "execution_count": null,
      "outputs": []
    }
  ]
}